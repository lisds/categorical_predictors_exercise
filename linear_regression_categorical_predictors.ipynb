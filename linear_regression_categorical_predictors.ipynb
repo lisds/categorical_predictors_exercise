{
 "cells": [
  {
   "cell_type": "markdown",
   "id": "637264ff",
   "metadata": {},
   "source": [
    "# Categorical Predictors Exercise\n",
    "\n",
    "In this excercise we'll explore some of the machinery for including categorical predictors in linear regression models."
   ]
  },
  {
   "cell_type": "code",
   "execution_count": null,
   "id": "b2c25d4b",
   "metadata": {},
   "outputs": [],
   "source": [
    "# please run this cell\n",
    "import numpy as np\n",
    "import pandas as pd\n",
    "pd.set_option('mode.copy_on_write', True)\n",
    "import matplotlib.pyplot as plt\n",
    "from jupyprint import jupyprint, arraytex\n",
    "import func\n",
    "import statsmodels.formula.api as smf\n",
    "\n",
    "# this imports the machinery for marking answers to questions\n",
    "from client.api.notebook import Notebook\n",
    "ok = Notebook('linear_regression_categorical_predictors.ok')"
   ]
  },
  {
   "cell_type": "markdown",
   "id": "ccdfde67",
   "metadata": {},
   "source": [
    "Run the cell below to import the Duncan data:"
   ]
  },
  {
   "cell_type": "code",
   "execution_count": null,
   "id": "38117b92",
   "metadata": {},
   "outputs": [],
   "source": [
    "# import the data\n",
    "duncan = pd.read_csv(\"Duncan_Occupational_Prestige.csv\")\n",
    "\n",
    "# show the dataframe\n",
    "duncan"
   ]
  },
  {
   "cell_type": "markdown",
   "id": "95199f68",
   "metadata": {},
   "source": [
    "## Question 1\n",
    "\n",
    "Create a dataframe containing only the data for `prof` (professional) jobs and the `wc` (white collar) jobs; call your dataframe `prof_wc_df`:"
   ]
  },
  {
   "cell_type": "code",
   "execution_count": null,
   "id": "a0af0f1d",
   "metadata": {},
   "outputs": [],
   "source": [
    "#- make your new dataframe here\n",
    "prof_wc_df = ...\n",
    "# Show the result\n",
    "prof_wc_df"
   ]
  },
  {
   "cell_type": "code",
   "execution_count": null,
   "id": "43230cdd",
   "metadata": {},
   "outputs": [],
   "source": [
    "# run this cell to check your answer\n",
    "_ = ok.grade('q1')"
   ]
  },
  {
   "cell_type": "markdown",
   "id": "fab7d3d0",
   "metadata": {},
   "source": [
    "## Question 2\n",
    "\n",
    "Sort your `prof_wc_df` dataframe by the `type` column. Ensure that that the rows for the `wc` jobs **appear in the first rows of the dataframe**.\n",
    "\n",
    "*Note*: please do not change the name of the dataframe, just sort the rows as instructed above. You also do **not** have to reset the index."
   ]
  },
  {
   "cell_type": "code",
   "execution_count": null,
   "id": "75a1d880",
   "metadata": {},
   "outputs": [],
   "source": [
    "#- sort your dataframe here\n",
    "prof_wc_df = ...\n",
    "# Show the result\n",
    "prof_wc_df"
   ]
  },
  {
   "cell_type": "code",
   "execution_count": null,
   "id": "7f46bb2f",
   "metadata": {},
   "outputs": [],
   "source": [
    "# run this cell to check your answer\n",
    "_ = ok.grade('q2')"
   ]
  },
  {
   "cell_type": "markdown",
   "id": "0d11d4be",
   "metadata": {},
   "source": [
    "## Question 3\n",
    "\n",
    "Plot the distribution of the `type` variable, in your `prof_wc_df` dataframe.\n",
    "\n",
    "The plot should be a barplot, with the `type` category labels on the x-axis, and the count of each of the labels should be on the y-axis.\n",
    "\n",
    "You can use any plotting library you like."
   ]
  },
  {
   "cell_type": "code",
   "execution_count": null,
   "id": "9e9d5b8c",
   "metadata": {},
   "outputs": [],
   "source": [
    "#- your plot here"
   ]
  },
  {
   "cell_type": "markdown",
   "id": "814b8c33",
   "metadata": {},
   "source": [
    "Please set the variable `my_Q3_answer` in the cell below to the number corresponding to the statement you think is most correct, with regard to the graphical trend shown by the plot, (e.g. if you think the answer is statement 1, `set my_Q3_answer` to equal 1):\n",
    "\n",
    "`1` - `prof` jobs have much higher `prestige` scores, because the bar is higher for `prof` than for `wc`\n",
    "\n",
    "`2` - there are more `prof` jobs in the dataframe than `wc` jobs\n",
    "\n",
    "`3` - there is no trend on the plot"
   ]
  },
  {
   "cell_type": "code",
   "execution_count": null,
   "id": "315d2b6b",
   "metadata": {},
   "outputs": [],
   "source": [
    "#- your answer here\n",
    "my_Q3_answer = ..."
   ]
  },
  {
   "cell_type": "code",
   "execution_count": null,
   "id": "08b89a7e",
   "metadata": {},
   "outputs": [],
   "source": [
    "# run this cell to check your answer\n",
    "_ = ok.grade('q3')"
   ]
  },
  {
   "cell_type": "markdown",
   "id": "0ef3bb0a",
   "metadata": {},
   "source": [
    "## Question 4\n",
    "\n",
    "Now, let's dummy code the `type` variable.\n",
    "\n",
    "Make a new dataframe column called `type_dummy`. Make your dummy codes according to this notation:\n",
    "\n",
    "$\\text{For each observation, $i$, in the `type` vector:}$\n",
    "\n",
    " `type_dummy` $ = \\begin{cases} 1, & \\text{if $i$ is `prof`} \\\\ 0, & \\text{if $i$ is `wc`} \\end{cases} $"
   ]
  },
  {
   "cell_type": "code",
   "execution_count": null,
   "id": "26683715",
   "metadata": {},
   "outputs": [],
   "source": [
    "#- create your new column\n",
    "prof_wc_df[...] =\n",
    "# Show the result\n",
    "prof_wc_df"
   ]
  },
  {
   "cell_type": "code",
   "execution_count": null,
   "id": "d6e0ea7a",
   "metadata": {},
   "outputs": [],
   "source": [
    "# run this cell to check your answer\n",
    "_ = ok.grade('q4')"
   ]
  },
  {
   "cell_type": "markdown",
   "id": "48425a19",
   "metadata": {},
   "source": [
    "## Question 5\n",
    "\n",
    "Using your new `type_dummy` variable, create a scatterplot showing `prestige` as a function of `type_dummy`.\n",
    "\n",
    "Use any plotting method you like:"
   ]
  },
  {
   "cell_type": "code",
   "execution_count": null,
   "id": "9dc22e50",
   "metadata": {},
   "outputs": [],
   "source": [
    "#- create your plot here\n",
    "..."
   ]
  },
  {
   "cell_type": "markdown",
   "id": "1923e469",
   "metadata": {},
   "source": [
    "What would you say is the most correct interpretation of the graphical trend here? Please set the variable `my_Q5_answer` in the cell below to the number corresponding to the statement you think is most correct (e.g. if you think the answer is statement 1, `set my_Q5_answer` to equal 1):\n",
    "\n",
    "`1` - it looks like a line which fit this data well would have *negative* slope\n",
    "\n",
    "`2` - it looks like a line which fit this data well would have an intercept of 0\n",
    "\n",
    "`3` - it looks like a line which fit this data well would have an slope of 0\n",
    "\n",
    "`4` - it looks like a line which fit this data well would have *negative* intercept\n",
    "\n",
    "`5` - it looks like a line which fit this data well would have an intercept around 20\n",
    "\n",
    "`6` - it looks like a line which fit this data well would have *positive* slope"
   ]
  },
  {
   "cell_type": "code",
   "execution_count": null,
   "id": "6eb93b05",
   "metadata": {},
   "outputs": [],
   "source": [
    "#- your answer here\n",
    "my_Q5_answer = ..."
   ]
  },
  {
   "cell_type": "code",
   "execution_count": null,
   "id": "e9b3bc1b",
   "metadata": {},
   "outputs": [],
   "source": [
    "# run this cell to check your answer\n",
    "_ = ok.grade('q5')"
   ]
  },
  {
   "cell_type": "markdown",
   "id": "b8340b50",
   "metadata": {},
   "source": [
    "## Question 6\n",
    "\n",
    "So we can access the vector more easily, create a variable called `type_dummy` which is a numpy array, containing the values from the `type_dummy` column of the `prof_wc_df` dataframe:"
   ]
  },
  {
   "cell_type": "code",
   "execution_count": null,
   "id": "e4197e9e",
   "metadata": {},
   "outputs": [],
   "source": [
    "#- create your variable here\n",
    "type_dummy = ...\n",
    "# Show the result\n",
    "type_dummy"
   ]
  },
  {
   "cell_type": "code",
   "execution_count": null,
   "id": "3c3e44aa",
   "metadata": {},
   "outputs": [],
   "source": [
    "# run this cell to check your answer\n",
    "_ = ok.grade('q6')"
   ]
  },
  {
   "cell_type": "markdown",
   "id": "3add0f13",
   "metadata": {},
   "source": [
    "## Question 7\n",
    "\n",
    "Please create a variable called `prestige` which is a numpy array, containing the values from the `prestige` column of the `prof_wc_df` dataframe:"
   ]
  },
  {
   "cell_type": "code",
   "execution_count": null,
   "id": "9949bb1f",
   "metadata": {},
   "outputs": [],
   "source": [
    "#- create your variable here\n",
    "prestige = ...\n",
    "# Show the result\n",
    "prestige"
   ]
  },
  {
   "cell_type": "code",
   "execution_count": null,
   "id": "2441ce22",
   "metadata": {},
   "outputs": [],
   "source": [
    "# run this cell to check your answer\n",
    "_ = ok.grade('q7')"
   ]
  },
  {
   "cell_type": "markdown",
   "id": "e74ee3dc",
   "metadata": {},
   "source": [
    "## Question 8\n",
    "\n",
    "Using any method you like, please fit the following linear regression model, using the vectors you just created:\n",
    "\n",
    "`prestige` = $b$ * `type_dummy` + $c$\n",
    "\n",
    "Store the slope from this regression in a variable called `slope_lin_reg_type_prest`, and store the intercept in a variable called `intercept_lin_reg_type_prest`"
   ]
  },
  {
   "cell_type": "code",
   "execution_count": null,
   "id": "7f209908",
   "metadata": {},
   "outputs": [],
   "source": [
    "#- perform your regression here\n",
    "slope_lin_reg_type_prest = ...\n",
    "intercept_lin_reg_type_prest = ...\n",
    "# Show the slope and intercept\n",
    "print(f\"The slope is {slope_lin_reg_type_prest}\")\n",
    "print(f\"The intercept is {intercept_lin_reg_type_prest}\")"
   ]
  },
  {
   "cell_type": "code",
   "execution_count": null,
   "id": "d8815186",
   "metadata": {},
   "outputs": [],
   "source": [
    "# run this cell to check your answer\n",
    "_ = ok.grade('q8')"
   ]
  },
  {
   "cell_type": "markdown",
   "id": "d16e0b34",
   "metadata": {},
   "source": [
    "Please run the cell below, which will add the best fitting regression line to a scatterplot of the `prestige` as a function of `type_dummy`:"
   ]
  },
  {
   "cell_type": "code",
   "execution_count": null,
   "id": "c44e469f",
   "metadata": {},
   "outputs": [],
   "source": [
    "# this code just generates the plot\n",
    "plt.scatter(type_dummy, prestige)\n",
    "plt.scatter(type_dummy, slope_lin_reg_type_prest*type_dummy + intercept_lin_reg_type_prest, color = 'red')\n",
    "plt.plot([0, 1], [slope_lin_reg_type_prest*0 + intercept_lin_reg_type_prest,\n",
    "                  slope_lin_reg_type_prest*1 + intercept_lin_reg_type_prest], color = 'red')\n",
    "plt.xticks([0, 1])\n",
    "plt.ylabel('Prestige')\n",
    "plt.xlabel('Type \\n(0 == \"wc\"\\n 1 == \"prof\")')\n",
    "plt.show()"
   ]
  },
  {
   "cell_type": "markdown",
   "id": "f4f6eed9",
   "metadata": {},
   "source": [
    "## Question 9\n",
    "\n",
    "Have a look at the slope you just got from this regression:"
   ]
  },
  {
   "cell_type": "code",
   "execution_count": null,
   "id": "3c5a12bb",
   "metadata": {},
   "outputs": [],
   "source": [
    "# show the slope\n",
    "slope_lin_reg_type_prest"
   ]
  },
  {
   "cell_type": "markdown",
   "id": "0f20d74f",
   "metadata": {},
   "source": [
    "Please set the variable `my_Q9_answer` in the cell below to the number corresponding to the statement you think is most correct:\n",
    "\n",
    "`1` - the slope tells us something different when we use a categorical predictor variable vs when we use a numeric predictor variable; it now tells us the *difference* between the means of each group\n",
    "\n",
    "`2` - the slope tells us the predicted value of the outcome variable when the predictor variable == 0\n",
    "\n",
    "`3` - the slope tells us the mean of the `wc` group\n",
    "\n",
    "`4` - the slope tells us exactly the same thing when we use a categorical predictor variable vs when we use a numeric predictor variable and an intercept column.\n",
    "\n",
    "`5` - the slope tells us the predicted value of the outcome when the predictor variable == 1\n",
    "\n",
    "`6` - the slope tells us the sum of the group means"
   ]
  },
  {
   "cell_type": "code",
   "execution_count": null,
   "id": "7ec1d1bd",
   "metadata": {},
   "outputs": [],
   "source": [
    "#- your answer here\n",
    "my_Q9_answer = ..."
   ]
  },
  {
   "cell_type": "code",
   "execution_count": null,
   "id": "4cdaadc5",
   "metadata": {},
   "outputs": [],
   "source": [
    "# run this cell to check your answer\n",
    "_ = ok.grade('q9')"
   ]
  },
  {
   "cell_type": "markdown",
   "id": "18864144",
   "metadata": {},
   "source": [
    "## Question 10\n",
    "\n",
    "Have a look at the intercept that you got from the single predictor linear regression:"
   ]
  },
  {
   "cell_type": "code",
   "execution_count": null,
   "id": "c207db33",
   "metadata": {},
   "outputs": [],
   "source": [
    "# show the intercept\n",
    "intercept_lin_reg_type_prest"
   ]
  },
  {
   "cell_type": "markdown",
   "id": "d739aca6",
   "metadata": {},
   "source": [
    "Here is a dataframe (called `q10_df`) that only contains the `type` column and the `prestige` column of the `prof_wc_df` dataframe (please just run the cell to create the dataframe):"
   ]
  },
  {
   "cell_type": "code",
   "execution_count": null,
   "id": "243bb934",
   "metadata": {},
   "outputs": [],
   "source": [
    "# just run this cell\n",
    "q10_df = prof_wc_df[['type', 'prestige']].copy()\n",
    "\n",
    "# show the dataframe \n",
    "q10_df"
   ]
  },
  {
   "cell_type": "markdown",
   "id": "e595d522",
   "metadata": {},
   "source": [
    "Write a function called `intercept_another_way` which takes only the `q10_df` as an argument, and returns **the same value as the intercept which you got from your linear regression**:\n",
    "\n",
    "*Note*: **do not hard code your answer, and do not perform another linear regression within the function**, you can get the same value by using a groupby operation on the `q10_df`..."
   ]
  },
  {
   "cell_type": "code",
   "execution_count": null,
   "id": "d30f94e5",
   "metadata": {},
   "outputs": [],
   "source": [
    "def intercept_another_way(q10_df):\n",
    "   return ...\n",
    "# test your function\n",
    "intercept_another_way(q10_df)"
   ]
  },
  {
   "cell_type": "code",
   "execution_count": null,
   "id": "88212fec",
   "metadata": {},
   "outputs": [],
   "source": [
    "# run this cell to check your answer\n",
    "_ = ok.grade('q10')"
   ]
  },
  {
   "cell_type": "markdown",
   "id": "814b3c37",
   "metadata": {},
   "source": [
    "## Question 11\n",
    "\n",
    "Using the slope and intercept that you just obtained from the linear regression modelling `prestige` as a function of `type_dummy`; write a function called `get_wc_mean_from_params` which takes the slope and intercept as input, and returns **the mean of the `prof` group as its output**. \n",
    "\n",
    "**Do not \"hard code\" the answer** - use your knowledge of the meaning of the slope and the intercept in this context to calculate the `prof` mean."
   ]
  },
  {
   "cell_type": "code",
   "execution_count": null,
   "id": "4086918d",
   "metadata": {},
   "outputs": [],
   "source": [
    "#- define your function here\n",
    "def get_wc_mean_from_params\n",
    "# test your function\n",
    "get_wc_mean_from_params(intercept_lin_reg_type_prest, slope_lin_reg_type_prest)"
   ]
  },
  {
   "cell_type": "code",
   "execution_count": null,
   "id": "2f6098ff",
   "metadata": {},
   "outputs": [],
   "source": [
    "# run this cell to check your answer\n",
    "_ = ok.grade('q11')"
   ]
  },
  {
   "cell_type": "markdown",
   "id": "3383f4f4",
   "metadata": {},
   "source": [
    "## Question 12\n",
    "\n",
    "Now, let's see what happens if we use a different dummy coding scheme.\n",
    "\n",
    "Create a new variable called `type_dummy_other` which is a numpy array, and contains dummy codes for the values in the `type` column of the `prof_wc_df` dataframe. Make the dummy codes in the `type_dummy_other` array according to this notation:\n",
    "\n",
    "$\\text{For each observation, $i$, in the `type` vector:}$\n",
    "\n",
    " `type_dummy_other` $ = \\begin{cases} 1, & \\text{if $i$ is `wc`} \\\\ 0, & \\text{if $i$ is `prof`} \\end{cases} $\n",
    " "
   ]
  },
  {
   "cell_type": "code",
   "execution_count": null,
   "id": "598134e7",
   "metadata": {},
   "outputs": [],
   "source": [
    "#- your code here\n",
    "type_dummy_other = ...\n",
    "# show the `type_dummy_other` variable\n",
    "type_dummy_other"
   ]
  },
  {
   "cell_type": "code",
   "execution_count": null,
   "id": "f8537aeb",
   "metadata": {},
   "outputs": [],
   "source": [
    "# run this cell to check your answer\n",
    "_ = ok.grade('q12')"
   ]
  },
  {
   "cell_type": "markdown",
   "id": "fe4c16ed",
   "metadata": {},
   "source": [
    "## Question 13\n",
    "\n",
    "**Without** fitting a linear regession, think through what will happen if you fit a linear regression of the following form:\n",
    "\n",
    "`prestige` ~ $b$ * `type_dummy_other` + `c`\n",
    "\n",
    "... then which one of the following statements do you think would be most true? (Set `my_q13_answer` appropriately):\n",
    "\n",
    "`1` - the slope $b$ would be the mean of the `prof` group\n",
    "\n",
    "`2` - the slope $b$ would be the mean of the `wc` group\n",
    "\n",
    "`3` - the slope $b$ would be negative\n",
    "\n",
    "`4` - the intercept would be the difference between the `prof` mean and the `wc` mean\n",
    "\n",
    "`5` - the regression will not be possible, with the `type_dummy_other` predictor\n",
    "\n",
    "`6` - the intercept $c$ would be 0"
   ]
  },
  {
   "cell_type": "code",
   "execution_count": null,
   "id": "d1a08570",
   "metadata": {},
   "outputs": [],
   "source": [
    "#- your answer here\n",
    "my_Q13_answer = ..."
   ]
  },
  {
   "cell_type": "code",
   "execution_count": null,
   "id": "1d187b13",
   "metadata": {},
   "outputs": [],
   "source": [
    "# run this cell to check your answer\n",
    "_ = ok.grade('q13')"
   ]
  },
  {
   "cell_type": "markdown",
   "id": "e81f59ce",
   "metadata": {},
   "source": [
    "## Question 14\n",
    "\n",
    "Here is a scatterplot, showing `prestige` as a function of the `type_dummy_other` variable which you just create (run the cell to generate the plot - the plot might help you think about the upcoming question):"
   ]
  },
  {
   "cell_type": "code",
   "execution_count": null,
   "id": "57ba086f",
   "metadata": {},
   "outputs": [],
   "source": [
    "# generate the plot\n",
    "plt.scatter(type_dummy_other, prestige)\n",
    "plt.xticks([0, 1])\n",
    "plt.ylabel('Prestige')\n",
    "plt.xlabel('Type \\n(0 == \"prof\"\\n 1 == \"wc\")');"
   ]
  },
  {
   "cell_type": "markdown",
   "id": "d3ff0863",
   "metadata": {},
   "source": [
    "Using any regression method you'd like, fit a linear regression of this form:\n",
    "\n",
    "`prestige` ~ $b$ * `type_dummy_other` + `c`\n",
    "\n",
    "Save the slope from this new regression in a variable called `slope_lin_reg_type_OTHER_prest`, and store the intercept in a variable called `intercept_lin_reg_type_OTHER_prest`."
   ]
  },
  {
   "cell_type": "code",
   "execution_count": null,
   "id": "514ec2e3",
   "metadata": {},
   "outputs": [],
   "source": [
    "#- perform your regression here\n",
    "slope_lin_reg_type_OTHER_prest = ...\n",
    "intercept_lin_reg_type_OTHER_prest = ...\n",
    "# Show the slope and intercept\n",
    "print(f\"The slope is {slope_lin_reg_type_OTHER_prest}\")\n",
    "print(f\"The intercept is {intercept_lin_reg_type_OTHER_prest}\")"
   ]
  },
  {
   "cell_type": "code",
   "execution_count": null,
   "id": "dd9dcc70",
   "metadata": {},
   "outputs": [],
   "source": [
    "# run this cell to check your answer\n",
    "_ = ok.grade('q14')"
   ]
  },
  {
   "cell_type": "markdown",
   "id": "2bfd1707",
   "metadata": {},
   "source": [
    "Has changing the dummy code changed anything substantial about this analysis? Double click the text below and write your answer in the markdown cell. Please explain your answer, e.g. why you think what you think:"
   ]
  },
  {
   "cell_type": "markdown",
   "id": "69ba9cc8",
   "metadata": {},
   "source": [
    "*Write your answer here, replacing this text*."
   ]
  },
  {
   "cell_type": "markdown",
   "id": "ea6bd689",
   "metadata": {},
   "source": [
    "## Question 15\n",
    "\n",
    "Write a function in the cell below called `mixed_up_mean` which takes two arguments (in this order):\n",
    "\n",
    "- `intercept_lin_reg_type_OTHER_prest` - the intercept from the regression you JUST fitted\n",
    "- `slope_lin_reg_type_prest` - the slope from the regression you fitted earlier, in question 8\n",
    "\n",
    "The function should return the mean of the `wc` group **but it should calculate this only from the two arguments supplied to the function** e.g. do not hard code the mean, or calculate it from any of the dataframes/arrays etc. that you have defined:"
   ]
  },
  {
   "cell_type": "code",
   "execution_count": null,
   "id": "a64b54f2",
   "metadata": {},
   "outputs": [],
   "source": [
    "def mixed_up_mean(intercept_lin_reg_type_OTHER_prest, slope_lin_reg_type_prest):\n",
    "   return ...\n",
    "# test your function\n",
    "mixed_up_mean(intercept_lin_reg_type_OTHER_prest, slope_lin_reg_type_prest)"
   ]
  },
  {
   "cell_type": "code",
   "execution_count": null,
   "id": "b0da5897",
   "metadata": {},
   "outputs": [],
   "source": [
    "# run this cell to check your answer\n",
    "_ = ok.grade('q15')"
   ]
  },
  {
   "cell_type": "code",
   "execution_count": null,
   "id": "99c16946",
   "metadata": {},
   "outputs": [],
   "source": [
    "# For your convenience, you can run this cell to run all the tests at once!\n",
    "import os\n",
    "_ = [ok.grade(q[:-3]) for q in os.listdir(\"tests\") if q.startswith('q')]"
   ]
  },
  {
   "cell_type": "markdown",
   "id": "9935a3bc",
   "metadata": {},
   "source": [
    "# Extra questions\n",
    "\n",
    "These extra questions will go beyond what is on the textbook page.\n",
    "\n",
    "If you feel very comfortable with the content covered in the above questions, then please have a go at the questions below.\n",
    "\n",
    "If you feel unsure or confused about the content above, please review the textbook page (or ask us, the instructors) to help to clarify your understanding before moving on to the extra questions.\n",
    "\n",
    "## Question 16\n",
    "\n",
    "\n",
    "On the linear regression notation pages we've seen so far, we've been using the sum of the squared error as our cost function.\n",
    "\n",
    "This method you have seen (dummy coding) for representing categorical predictors, does not only apply in the context of linear regression. We can use it in models which use different cost functions as well.\n",
    "\n",
    "Please write a cost function in the cell below, called `sum_absolute_error` which accepts three arguments:\n",
    "\n",
    "- a list containing a slope ($b$) and intercept ($c$) pair\n",
    "- a $x$ vector (e.g. a predictor vector)\n",
    "- a $y$ vector (e.g. an outcome vector)\n",
    "\n",
    "The function should return a single value, it should be the sum of the absolute errors, for the line specified by the slope/intercept pair. \n",
    "\n",
    "E.g. for the *sum of the squared error* cost function, we square the errors then add them up. For the `sum_absolute_error` function, you should sum up the *absolute* value of the errors (e.g. ignoring the +/-sign).\n",
    "\n",
    "*Note*: this may be tricky, and may require a little thought, but it is possibly simpler than you think...\n",
    "\n",
    "*Hint*: you may want to investigate `np.abs()` here."
   ]
  },
  {
   "cell_type": "code",
   "execution_count": null,
   "id": "b9a68278",
   "metadata": {},
   "outputs": [],
   "source": [
    "#- create your cost function here\n",
    "def sum_absolute_error():\n",
    "   return\n",
    "# test your function\n",
    "sum_absolute_error([1, 1], prof_wc_df['type_dummy'], prof_wc_df['prestige'])"
   ]
  },
  {
   "cell_type": "code",
   "execution_count": null,
   "id": "03a26d33",
   "metadata": {},
   "outputs": [],
   "source": [
    "# run this cell to check your answer\n",
    "_ = ok.grade('q16')"
   ]
  },
  {
   "cell_type": "markdown",
   "id": "a370391d",
   "metadata": {},
   "source": [
    "## Question 17\n",
    "\n",
    "Using `minimize` from the `scipy.optimize` find the slope and intercept pair which give the minimum `sum_absolute_error` when using `type_dummy` as your predictor and `prestige` as your outcome variable.\n",
    "\n",
    "Save the slope as a variable named `abs_slope_type_prest`.\n",
    "\n",
    "Save the intercept as a variable named `abs_intercept_type_prest`.\n",
    "\n",
    "*Note:* for the marking to work, please use the default method of `minimize` e.g. **do not** use `method = 'Powell'`."
   ]
  },
  {
   "cell_type": "code",
   "execution_count": null,
   "id": "5bb5275a",
   "metadata": {},
   "outputs": [],
   "source": [
    "#- `minimize` your new cost function...\n",
    "from scipy.optimize import minimize\n",
    "abs_slope_type_prest = ...\n",
    "abs_intercept_type_prest = ...\n",
    "# Show the slope and intercept, from minimzing the `sum_absolute_error` cost function\n",
    "print(f\"The slope (from minimzing the `sum_absolute_error` cost function) is {abs_slope_type_prest}\")\n",
    "print(f\"The intercept (from minimzing the `sum_absolute_error` cost function) is {abs_intercept_type_prest}\")"
   ]
  },
  {
   "cell_type": "code",
   "execution_count": null,
   "id": "b2f8bb72",
   "metadata": {},
   "outputs": [],
   "source": [
    "# run this cell to check your answer\n",
    "_ = ok.grade('q17')"
   ]
  },
  {
   "cell_type": "markdown",
   "id": "5c559931",
   "metadata": {},
   "source": [
    "Let's compare the slope and intercept we get from minimizing the `sum_absolute_error` cost function to the slope/intercept that we got from linear regression (in both cases the model is `prestige ~ type_dummy`):"
   ]
  },
  {
   "cell_type": "code",
   "execution_count": null,
   "id": "0788d744",
   "metadata": {},
   "outputs": [],
   "source": [
    "# Show the slope and intercept, from linear regression (prestige ~ type_dummy)\n",
    "print(f\"The slope (from linear regression) is {slope_lin_reg_type_prest}\")\n",
    "print(f\"The intercept (from linear regression) is {intercept_lin_reg_type_prest}\")"
   ]
  },
  {
   "cell_type": "markdown",
   "id": "e439301c",
   "metadata": {},
   "source": [
    "For reflection:\n",
    "\n",
    "- do you think changing the cost function has changed anything substantial about the analysis, in this case, such as the strength or direction of the effect of `type` on `prestige`?\n",
    "\n",
    "- do you think the meaning of the slope is the same, when we use the `sum_absolute_error` cost function, vs when we perform a linear regression?\n",
    "\n",
    "- do you think the meaning of the intercept is the same, when we use the `sum_absolute_error` cost function, vs when we perform a linear regression?\n",
    "\n",
    "To help with these reflections, please run the cell below to show the line from linear regression side-by-side with line obtained from minimizing your new cost function."
   ]
  },
  {
   "cell_type": "code",
   "execution_count": null,
   "id": "05fa65fb",
   "metadata": {},
   "outputs": [],
   "source": [
    "# this code just generates the plot\n",
    "plt.figure(figsize = (16, 6))\n",
    "plt.subplot(1, 2, 1)\n",
    "plt.title('Line obtained from linear regression\\n(e.g. minimzing the sum of squared errors cost function)')\n",
    "plt.scatter(type_dummy, prestige)\n",
    "plt.scatter(type_dummy, slope_lin_reg_type_prest*type_dummy + intercept_lin_reg_type_prest, color = 'red')\n",
    "plt.plot([0, 1], [slope_lin_reg_type_prest*0 + intercept_lin_reg_type_prest,\n",
    "                  slope_lin_reg_type_prest*1 + intercept_lin_reg_type_prest], color = 'red')\n",
    "plt.xticks([0, 1])\n",
    "plt.ylabel('Prestige')\n",
    "plt.xlabel('Type \\n(0 == \"wc\"\\n 1 == \"prof\")')\n",
    "\n",
    "plt.subplot(1, 2, 2)\n",
    "plt.title('Line obtained from minimizing the\\n `sum_absolute_error` cost function')\n",
    "plt.scatter(type_dummy, prestige)\n",
    "plt.scatter(type_dummy, abs_slope_type_prest*type_dummy + abs_intercept_type_prest, color = 'red')\n",
    "plt.plot([0, 1], [abs_slope_type_prest*0 + abs_intercept_type_prest, abs_slope_type_prest*1 + abs_intercept_type_prest], color = 'red')\n",
    "plt.xticks([0, 1])\n",
    "plt.ylabel('Prestige')\n",
    "plt.xlabel('Type \\n(0 == \"wc\"\\n 1 == \"prof\")')\n",
    "plt.show()"
   ]
  },
  {
   "cell_type": "code",
   "execution_count": null,
   "id": "35eee320",
   "metadata": {},
   "outputs": [],
   "source": [
    "# For your convenience, you can run this cell to run all the tests at once!\n",
    "import os\n",
    "_ = [ok.grade(q[:-3]) for q in os.listdir(\"tests\") if q.startswith('q')]"
   ]
  }
 ],
 "metadata": {
  "jupytext": {
   "formats": "ipynb,Rmd",
   "notebook_metadata_filter": "all,-language_info",
   "split_at_heading": true,
   "text_representation": {
    "extension": ".Rmd",
    "format_name": "rmarkdown",
    "format_version": "1.2",
    "jupytext_version": "1.15.2"
   }
  },
  "kernelspec": {
   "display_name": "Python 3 (ipykernel)",
   "language": "python",
   "name": "python3"
  }
 },
 "nbformat": 4,
 "nbformat_minor": 5
}
